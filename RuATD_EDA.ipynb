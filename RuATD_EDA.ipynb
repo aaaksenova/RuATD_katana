{
  "nbformat": 4,
  "nbformat_minor": 0,
  "metadata": {
    "colab": {
      "name": "RuATD EDA.ipynb",
      "provenance": []
    },
    "kernelspec": {
      "name": "python3",
      "display_name": "Python 3"
    },
    "language_info": {
      "name": "python"
    }
  },
  "cells": [
    {
      "cell_type": "code",
      "source": [
        "import pandas as pd\n",
        "import matplotlib.pyplot as plt"
      ],
      "metadata": {
        "id": "lmas2wg4eR7R"
      },
      "execution_count": 4,
      "outputs": []
    },
    {
      "cell_type": "code",
      "source": [
        "train = pd.read_csv(\"./data/train.csv\")\n",
        "val = pd.read_csv(\"./data/val.csv\")\n",
        "test = pd.read_csv(\"./data/test.csv\")"
      ],
      "metadata": {
        "id": "CmeYAkWZewnr"
      },
      "execution_count": 5,
      "outputs": []
    },
    {
      "cell_type": "code",
      "source": [
        "train.head()"
      ],
      "metadata": {
        "colab": {
          "base_uri": "https://localhost:8080/",
          "height": 201
        },
        "id": "T7ujgJ4AfG3x",
        "outputId": "89c3ce1e-eb38-4232-8210-863aaf2f7e39"
      },
      "execution_count": 6,
      "outputs": [
        {
          "output_type": "execute_result",
          "data": {
            "text/html": [
              "\n",
              "  <div id=\"df-58f390ac-765f-4b47-8dbc-90822ae08c45\">\n",
              "    <div class=\"colab-df-container\">\n",
              "      <div>\n",
              "<style scoped>\n",
              "    .dataframe tbody tr th:only-of-type {\n",
              "        vertical-align: middle;\n",
              "    }\n",
              "\n",
              "    .dataframe tbody tr th {\n",
              "        vertical-align: top;\n",
              "    }\n",
              "\n",
              "    .dataframe thead th {\n",
              "        text-align: right;\n",
              "    }\n",
              "</style>\n",
              "<table border=\"1\" class=\"dataframe\">\n",
              "  <thead>\n",
              "    <tr style=\"text-align: right;\">\n",
              "      <th></th>\n",
              "      <th>Id</th>\n",
              "      <th>Text</th>\n",
              "      <th>Class</th>\n",
              "    </tr>\n",
              "  </thead>\n",
              "  <tbody>\n",
              "    <tr>\n",
              "      <th>0</th>\n",
              "      <td>0</td>\n",
              "      <td>Обустройство тротуаров, мостовых (в том числе ...</td>\n",
              "      <td>H</td>\n",
              "    </tr>\n",
              "    <tr>\n",
              "      <th>1</th>\n",
              "      <td>1</td>\n",
              "      <td>Въ издержкахъ же оныхъ вы имете присылать счет...</td>\n",
              "      <td>H</td>\n",
              "    </tr>\n",
              "    <tr>\n",
              "      <th>2</th>\n",
              "      <td>2</td>\n",
              "      <td>Положи это туда, откуда взял.</td>\n",
              "      <td>H</td>\n",
              "    </tr>\n",
              "    <tr>\n",
              "      <th>3</th>\n",
              "      <td>3</td>\n",
              "      <td>Минстрой обозначил способы снижения энергоемко...</td>\n",
              "      <td>M</td>\n",
              "    </tr>\n",
              "    <tr>\n",
              "      <th>4</th>\n",
              "      <td>4</td>\n",
              "      <td>В конце 1873 года военный суд вынес решение по...</td>\n",
              "      <td>M</td>\n",
              "    </tr>\n",
              "  </tbody>\n",
              "</table>\n",
              "</div>\n",
              "      <button class=\"colab-df-convert\" onclick=\"convertToInteractive('df-58f390ac-765f-4b47-8dbc-90822ae08c45')\"\n",
              "              title=\"Convert this dataframe to an interactive table.\"\n",
              "              style=\"display:none;\">\n",
              "        \n",
              "  <svg xmlns=\"http://www.w3.org/2000/svg\" height=\"24px\"viewBox=\"0 0 24 24\"\n",
              "       width=\"24px\">\n",
              "    <path d=\"M0 0h24v24H0V0z\" fill=\"none\"/>\n",
              "    <path d=\"M18.56 5.44l.94 2.06.94-2.06 2.06-.94-2.06-.94-.94-2.06-.94 2.06-2.06.94zm-11 1L8.5 8.5l.94-2.06 2.06-.94-2.06-.94L8.5 2.5l-.94 2.06-2.06.94zm10 10l.94 2.06.94-2.06 2.06-.94-2.06-.94-.94-2.06-.94 2.06-2.06.94z\"/><path d=\"M17.41 7.96l-1.37-1.37c-.4-.4-.92-.59-1.43-.59-.52 0-1.04.2-1.43.59L10.3 9.45l-7.72 7.72c-.78.78-.78 2.05 0 2.83L4 21.41c.39.39.9.59 1.41.59.51 0 1.02-.2 1.41-.59l7.78-7.78 2.81-2.81c.8-.78.8-2.07 0-2.86zM5.41 20L4 18.59l7.72-7.72 1.47 1.35L5.41 20z\"/>\n",
              "  </svg>\n",
              "      </button>\n",
              "      \n",
              "  <style>\n",
              "    .colab-df-container {\n",
              "      display:flex;\n",
              "      flex-wrap:wrap;\n",
              "      gap: 12px;\n",
              "    }\n",
              "\n",
              "    .colab-df-convert {\n",
              "      background-color: #E8F0FE;\n",
              "      border: none;\n",
              "      border-radius: 50%;\n",
              "      cursor: pointer;\n",
              "      display: none;\n",
              "      fill: #1967D2;\n",
              "      height: 32px;\n",
              "      padding: 0 0 0 0;\n",
              "      width: 32px;\n",
              "    }\n",
              "\n",
              "    .colab-df-convert:hover {\n",
              "      background-color: #E2EBFA;\n",
              "      box-shadow: 0px 1px 2px rgba(60, 64, 67, 0.3), 0px 1px 3px 1px rgba(60, 64, 67, 0.15);\n",
              "      fill: #174EA6;\n",
              "    }\n",
              "\n",
              "    [theme=dark] .colab-df-convert {\n",
              "      background-color: #3B4455;\n",
              "      fill: #D2E3FC;\n",
              "    }\n",
              "\n",
              "    [theme=dark] .colab-df-convert:hover {\n",
              "      background-color: #434B5C;\n",
              "      box-shadow: 0px 1px 3px 1px rgba(0, 0, 0, 0.15);\n",
              "      filter: drop-shadow(0px 1px 2px rgba(0, 0, 0, 0.3));\n",
              "      fill: #FFFFFF;\n",
              "    }\n",
              "  </style>\n",
              "\n",
              "      <script>\n",
              "        const buttonEl =\n",
              "          document.querySelector('#df-58f390ac-765f-4b47-8dbc-90822ae08c45 button.colab-df-convert');\n",
              "        buttonEl.style.display =\n",
              "          google.colab.kernel.accessAllowed ? 'block' : 'none';\n",
              "\n",
              "        async function convertToInteractive(key) {\n",
              "          const element = document.querySelector('#df-58f390ac-765f-4b47-8dbc-90822ae08c45');\n",
              "          const dataTable =\n",
              "            await google.colab.kernel.invokeFunction('convertToInteractive',\n",
              "                                                     [key], {});\n",
              "          if (!dataTable) return;\n",
              "\n",
              "          const docLinkHtml = 'Like what you see? Visit the ' +\n",
              "            '<a target=\"_blank\" href=https://colab.research.google.com/notebooks/data_table.ipynb>data table notebook</a>'\n",
              "            + ' to learn more about interactive tables.';\n",
              "          element.innerHTML = '';\n",
              "          dataTable['output_type'] = 'display_data';\n",
              "          await google.colab.output.renderOutput(dataTable, element);\n",
              "          const docLink = document.createElement('div');\n",
              "          docLink.innerHTML = docLinkHtml;\n",
              "          element.appendChild(docLink);\n",
              "        }\n",
              "      </script>\n",
              "    </div>\n",
              "  </div>\n",
              "  "
            ],
            "text/plain": [
              "   Id                                               Text Class\n",
              "0   0  Обустройство тротуаров, мостовых (в том числе ...     H\n",
              "1   1  Въ издержкахъ же оныхъ вы имете присылать счет...     H\n",
              "2   2                      Положи это туда, откуда взял.     H\n",
              "3   3  Минстрой обозначил способы снижения энергоемко...     M\n",
              "4   4  В конце 1873 года военный суд вынес решение по...     M"
            ]
          },
          "metadata": {},
          "execution_count": 6
        }
      ]
    },
    {
      "cell_type": "markdown",
      "source": [
        "Посмотрим описание данных:"
      ],
      "metadata": {
        "id": "ijNEahbrhBqq"
      }
    },
    {
      "cell_type": "code",
      "source": [
        "train.info()"
      ],
      "metadata": {
        "colab": {
          "base_uri": "https://localhost:8080/"
        },
        "id": "0wUjjooVhE8z",
        "outputId": "df45782d-4560-48ef-c131-0d075e03632f"
      },
      "execution_count": 7,
      "outputs": [
        {
          "output_type": "stream",
          "name": "stdout",
          "text": [
            "<class 'pandas.core.frame.DataFrame'>\n",
            "RangeIndex: 129066 entries, 0 to 129065\n",
            "Data columns (total 3 columns):\n",
            " #   Column  Non-Null Count   Dtype \n",
            "---  ------  --------------   ----- \n",
            " 0   Id      129066 non-null  int64 \n",
            " 1   Text    129066 non-null  object\n",
            " 2   Class   129066 non-null  object\n",
            "dtypes: int64(1), object(2)\n",
            "memory usage: 3.0+ MB\n"
          ]
        }
      ]
    },
    {
      "cell_type": "code",
      "source": [
        "val.info()"
      ],
      "metadata": {
        "colab": {
          "base_uri": "https://localhost:8080/"
        },
        "id": "ZQiTPHEthHYP",
        "outputId": "c6626395-08ef-405f-a5e5-5e494e2951e8"
      },
      "execution_count": 8,
      "outputs": [
        {
          "output_type": "stream",
          "name": "stdout",
          "text": [
            "<class 'pandas.core.frame.DataFrame'>\n",
            "RangeIndex: 21511 entries, 0 to 21510\n",
            "Data columns (total 3 columns):\n",
            " #   Column  Non-Null Count  Dtype \n",
            "---  ------  --------------  ----- \n",
            " 0   Id      21511 non-null  int64 \n",
            " 1   Text    21511 non-null  object\n",
            " 2   Class   21511 non-null  object\n",
            "dtypes: int64(1), object(2)\n",
            "memory usage: 504.3+ KB\n"
          ]
        }
      ]
    },
    {
      "cell_type": "code",
      "source": [
        "test.info()"
      ],
      "metadata": {
        "colab": {
          "base_uri": "https://localhost:8080/"
        },
        "id": "H0a2KSN6hI36",
        "outputId": "f452bf62-0e01-49e6-8365-362709757e73"
      },
      "execution_count": 9,
      "outputs": [
        {
          "output_type": "stream",
          "name": "stdout",
          "text": [
            "<class 'pandas.core.frame.DataFrame'>\n",
            "RangeIndex: 64533 entries, 0 to 64532\n",
            "Data columns (total 2 columns):\n",
            " #   Column  Non-Null Count  Dtype \n",
            "---  ------  --------------  ----- \n",
            " 0   Id      64533 non-null  int64 \n",
            " 1   Text    64533 non-null  object\n",
            "dtypes: int64(1), object(1)\n",
            "memory usage: 1008.5+ KB\n"
          ]
        }
      ]
    },
    {
      "cell_type": "markdown",
      "source": [
        "Видим, что все данные, что у нас есть -- это сами тексты, сгенерированные моделью MT и парафразерами или написанные человеком и собственно лейблы текстов. Пропусков в данных нет.\n",
        "\n",
        "Посмотрим на распределие классов:"
      ],
      "metadata": {
        "id": "OUIYsb02hMyg"
      }
    },
    {
      "cell_type": "code",
      "source": [
        "train.value_counts('Class')"
      ],
      "metadata": {
        "colab": {
          "base_uri": "https://localhost:8080/"
        },
        "id": "C93qtOSgfFl3",
        "outputId": "b90dcb01-cf1a-41c6-8baa-28f632ddd2b5"
      },
      "execution_count": 10,
      "outputs": [
        {
          "output_type": "execute_result",
          "data": {
            "text/plain": [
              "Class\n",
              "H    64535\n",
              "M    64531\n",
              "dtype: int64"
            ]
          },
          "metadata": {},
          "execution_count": 10
        }
      ]
    },
    {
      "cell_type": "code",
      "source": [
        "val.value_counts('Class')"
      ],
      "metadata": {
        "colab": {
          "base_uri": "https://localhost:8080/"
        },
        "id": "g2fbsuTge2cv",
        "outputId": "9652a913-0185-4071-ca71-b5a174f9809f"
      },
      "execution_count": 11,
      "outputs": [
        {
          "output_type": "execute_result",
          "data": {
            "text/plain": [
              "Class\n",
              "H    10756\n",
              "M    10755\n",
              "dtype: int64"
            ]
          },
          "metadata": {},
          "execution_count": 11
        }
      ]
    },
    {
      "cell_type": "markdown",
      "source": [
        "Видим, что распределение классов 50/50. Это значит, что при обучении у нас не будет байеса в сторону какого-то класса, что хорошо.\n",
        "\n",
        "Теперь посмотрим на длины текстов:\n",
        "\n"
      ],
      "metadata": {
        "id": "xzZPW7dbfVSx"
      }
    },
    {
      "cell_type": "code",
      "source": [
        "print('Train:')\n",
        "print('Минимальная длина (в символах):', train.Text.apply(len).min())\n",
        "print('Средняя длина (в символах):', train.Text.apply(len).mean())\n",
        "print('Максимальная длина (в символах):', train.Text.apply(len).max(), end='\\n\\n')\n",
        "print('Минимальная длина (в токенах):', train.Text.str.split().apply(len).min())\n",
        "print('Средняя длина (в токенах):', train.Text.str.split().apply(len).mean())\n",
        "print('Максимальная длина (в токенах):', train.Text.str.split().apply(len).max())"
      ],
      "metadata": {
        "colab": {
          "base_uri": "https://localhost:8080/"
        },
        "id": "bpuZ6vIXe7_b",
        "outputId": "19a9b5f8-ecb4-44cc-9592-6e39999664a5"
      },
      "execution_count": 12,
      "outputs": [
        {
          "output_type": "stream",
          "name": "stdout",
          "text": [
            "Train:\n",
            "Минимальная длина (в символах): 7\n",
            "Средняя длина (в символах): 229.16644972339733\n",
            "Максимальная длина (в символах): 3560\n",
            "\n",
            "Минимальная длина (в токенах): 1\n",
            "Средняя длина (в токенах): 30.958238420653\n",
            "Максимальная длина (в токенах): 376\n"
          ]
        }
      ]
    },
    {
      "cell_type": "code",
      "source": [
        "print('Val:')\n",
        "print('Минимальная длина (в символах):', val.Text.apply(len).min())\n",
        "print('Средняя длина (в символах):', val.Text.apply(len).mean())\n",
        "print('Максимальная длина (в символах):', val.Text.apply(len).max(), end='\\n\\n')\n",
        "print('Минимальная длина (в токенах):', val.Text.str.split().apply(len).min())\n",
        "print('Средняя длина (в токенах):', val.Text.str.split().apply(len).mean())\n",
        "print('Максимальная длина (в токенах):', val.Text.str.split().apply(len).max(), end='\\n\\n')"
      ],
      "metadata": {
        "colab": {
          "base_uri": "https://localhost:8080/"
        },
        "id": "8AxWT5rLfvnv",
        "outputId": "c7112189-a913-48ad-94ae-78b2aa86d128"
      },
      "execution_count": 13,
      "outputs": [
        {
          "output_type": "stream",
          "name": "stdout",
          "text": [
            "Val:\n",
            "Минимальная длина (в символах): 12\n",
            "Средняя длина (в символах): 229.3286225651992\n",
            "Максимальная длина (в символах): 3498\n",
            "\n",
            "Минимальная длина (в токенах): 1\n",
            "Средняя длина (в токенах): 30.970154804518618\n",
            "Максимальная длина (в токенах): 360\n",
            "\n"
          ]
        }
      ]
    },
    {
      "cell_type": "code",
      "source": [
        "print('Test:')\n",
        "print('Минимальная длина (в символах):', test.Text.apply(len).min())\n",
        "print('Средняя длина (в символах):', test.Text.apply(len).mean())\n",
        "print('Максимальная длина (в символах):', test.Text.apply(len).max(), end='\\n\\n')\n",
        "print('Минимальная длина (в токенах):', test.Text.str.split().apply(len).min())\n",
        "print('Средняя длина (в токенах):', test.Text.str.split().apply(len).mean())\n",
        "print('Максимальная длина (в токенах):', test.Text.str.split().apply(len).max(), end='\\n\\n')"
      ],
      "metadata": {
        "colab": {
          "base_uri": "https://localhost:8080/"
        },
        "id": "zkDouxTQf-yA",
        "outputId": "77a28195-6e38-4751-d348-3a7bf19d6bbd"
      },
      "execution_count": 14,
      "outputs": [
        {
          "output_type": "stream",
          "name": "stdout",
          "text": [
            "Test:\n",
            "Минимальная длина (в символах): 6\n",
            "Средняя длина (в символах): 229.71175987479273\n",
            "Максимальная длина (в символах): 3209\n",
            "\n",
            "Минимальная длина (в токенах): 1\n",
            "Средняя длина (в токенах): 30.985232361737406\n",
            "Максимальная длина (в токенах): 374\n",
            "\n"
          ]
        }
      ]
    },
    {
      "cell_type": "markdown",
      "source": [
        "Как видим, данные сбалансированы по длине. Посмотрим на распределения длин:"
      ],
      "metadata": {
        "id": "2aDym0q8gDqp"
      }
    },
    {
      "cell_type": "code",
      "source": [
        "fig, axs = plt.subplots(1, 3, figsize=(17, 5), sharex=True)\n",
        "\n",
        "axs[0].hist(train.Text.apply(len))\n",
        "axs[0].set(title='train',\n",
        "           xlabel='num. of symbols',\n",
        "           ylabel='num. of texts'\n",
        "           )\n",
        "\n",
        "axs[1].hist(val.Text.apply(len))\n",
        "axs[1].set(title='val',\n",
        "           xlabel='num. of symbols',\n",
        "           ylabel='num. of texts'\n",
        "           )\n",
        "\n",
        "axs[2].hist(test.Text.apply(len))\n",
        "axs[2].set(title='test',\n",
        "           xlabel='num. of symbols',\n",
        "           ylabel='num. of texts'\n",
        "           )\n",
        "plt.show()"
      ],
      "metadata": {
        "colab": {
          "base_uri": "https://localhost:8080/",
          "height": 349
        },
        "id": "bmFj1xxmgBL9",
        "outputId": "9f0f022f-71f2-478b-f41b-3a661c45c85a"
      },
      "execution_count": 15,
      "outputs": [
        {
          "output_type": "display_data",
          "data": {
            "image/png": "[encoded data removed]",
            "text/plain": [
              "<Figure size 1224x360 with 3 Axes>"
            ]
          },
          "metadata": {
            "needs_background": "light"
          }
        }
      ]
    },
    {
      "cell_type": "code",
      "source": [
        "fig, axs = plt.subplots(1, 3, figsize=(17, 5), sharex=True)\n",
        "\n",
        "axs[0].hist(train.Text.str.split().apply(len))\n",
        "axs[0].set(title='train',\n",
        "           xlabel='num. of tokens',\n",
        "           ylabel='num. of texts'\n",
        "           )\n",
        "\n",
        "axs[1].hist(val.Text.str.split().apply(len))\n",
        "axs[1].set(title='val',\n",
        "           xlabel='num. of tokens',\n",
        "           ylabel='num. of texts'\n",
        "           )\n",
        "\n",
        "axs[2].hist(test.Text.str.split().apply(len))\n",
        "axs[2].set(title='test',\n",
        "           xlabel='num. of tokens',\n",
        "           ylabel='num. of texts'\n",
        "           )\n",
        "plt.show()"
      ],
      "metadata": {
        "colab": {
          "base_uri": "https://localhost:8080/",
          "height": 349
        },
        "id": "oXe321lAg8Lk",
        "outputId": "0543d6a4-87f7-4186-d4f4-bb831378d8ba"
      },
      "execution_count": 16,
      "outputs": [
        {
          "output_type": "display_data",
          "data": {
            "image/png": "[encoded data removed]",
            "text/plain": [
              "<Figure size 1224x360 with 3 Axes>"
            ]
          },
          "metadata": {
            "needs_background": "light"
          }
        }
      ]
    },
    {
      "cell_type": "markdown",
      "source": [
        "Если смотреть на распределения длин, заметим, что большинство текстов довольно короткие (1-50 токенов), но у нас имеется хвост из меньшего количества данных большей длины с доп пиком в районе 80-120 токенов.\n",
        "\n",
        "Давайте посмотрим на тексты длины 1:"
      ],
      "metadata": {
        "id": "_6W76Zy3jvTB"
      }
    },
    {
      "cell_type": "code",
      "source": [
        "train[train.Text.str.split().apply(len) == 1]"
      ],
      "metadata": {
        "colab": {
          "base_uri": "https://localhost:8080/",
          "height": 475
        },
        "id": "q3_XoHgJiBLr",
        "outputId": "254f512f-8fcf-40de-db34-755776250a58"
      },
      "execution_count": 17,
      "outputs": [
        {
          "output_type": "execute_result",
          "data": {
            "text/html": [
              "\n",
              "  <div id=\"df-0c583a37-93c7-43a6-8ddd-eb43ea247a99\">\n",
              "    <div class=\"colab-df-container\">\n",
              "      <div>\n",
              "<style scoped>\n",
              "    .dataframe tbody tr th:only-of-type {\n",
              "        vertical-align: middle;\n",
              "    }\n",
              "\n",
              "    .dataframe tbody tr th {\n",
              "        vertical-align: top;\n",
              "    }\n",
              "\n",
              "    .dataframe thead th {\n",
              "        text-align: right;\n",
              "    }\n",
              "</style>\n",
              "<table border=\"1\" class=\"dataframe\">\n",
              "  <thead>\n",
              "    <tr style=\"text-align: right;\">\n",
              "      <th></th>\n",
              "      <th>Id</th>\n",
              "      <th>Text</th>\n",
              "      <th>Class</th>\n",
              "    </tr>\n",
              "  </thead>\n",
              "  <tbody>\n",
              "    <tr>\n",
              "      <th>6484</th>\n",
              "      <td>10876</td>\n",
              "      <td>супруга_______________________________________...</td>\n",
              "      <td>H</td>\n",
              "    </tr>\n",
              "    <tr>\n",
              "      <th>48920</th>\n",
              "      <td>81476</td>\n",
              "      <td>zakupki.zapis.org/doc/148462-zakopis-dnya-chel...</td>\n",
              "      <td>M</td>\n",
              "    </tr>\n",
              "    <tr>\n",
              "      <th>64899</th>\n",
              "      <td>108146</td>\n",
              "      <td>дети:_________________________________________...</td>\n",
              "      <td>H</td>\n",
              "    </tr>\n",
              "    <tr>\n",
              "      <th>72562</th>\n",
              "      <td>120881</td>\n",
              "      <td>http://www.entlebucher-anzeiger.ch/2014/06/ski...</td>\n",
              "      <td>H</td>\n",
              "    </tr>\n",
              "    <tr>\n",
              "      <th>79372</th>\n",
              "      <td>132271</td>\n",
              "      <td>===Census/index</td>\n",
              "      <td>M</td>\n",
              "    </tr>\n",
              "    <tr>\n",
              "      <th>79649</th>\n",
              "      <td>132746</td>\n",
              "      <td>П.Д.ФРИЗЕН</td>\n",
              "      <td>H</td>\n",
              "    </tr>\n",
              "    <tr>\n",
              "      <th>89753</th>\n",
              "      <td>149491</td>\n",
              "      <td>http://www.transportaward.com/index.php/histor...</td>\n",
              "      <td>H</td>\n",
              "    </tr>\n",
              "    <tr>\n",
              "      <th>90038</th>\n",
              "      <td>149955</td>\n",
              "      <td>дети:_________________________________________...</td>\n",
              "      <td>H</td>\n",
              "    </tr>\n",
              "    <tr>\n",
              "      <th>91810</th>\n",
              "      <td>152888</td>\n",
              "      <td>president.go.kr/</td>\n",
              "      <td>H</td>\n",
              "    </tr>\n",
              "    <tr>\n",
              "      <th>99406</th>\n",
              "      <td>165658</td>\n",
              "      <td>ttp://twitter.com/TrumpTramp/status/1025219074...</td>\n",
              "      <td>M</td>\n",
              "    </tr>\n",
              "    <tr>\n",
              "      <th>99450</th>\n",
              "      <td>165752</td>\n",
              "      <td>тыс.кв.м.</td>\n",
              "      <td>H</td>\n",
              "    </tr>\n",
              "    <tr>\n",
              "      <th>107898</th>\n",
              "      <td>179830</td>\n",
              "      <td>Гапсбург(ский).</td>\n",
              "      <td>H</td>\n",
              "    </tr>\n",
              "    <tr>\n",
              "      <th>113257</th>\n",
              "      <td>188765</td>\n",
              "      <td>\"Урррраааа!!!\".</td>\n",
              "      <td>H</td>\n",
              "    </tr>\n",
              "    <tr>\n",
              "      <th>114962</th>\n",
              "      <td>191566</td>\n",
              "      <td>http://www.kmt.tj/</td>\n",
              "      <td>H</td>\n",
              "    </tr>\n",
              "  </tbody>\n",
              "</table>\n",
              "</div>\n",
              "      <button class=\"colab-df-convert\" onclick=\"convertToInteractive('df-0c583a37-93c7-43a6-8ddd-eb43ea247a99')\"\n",
              "              title=\"Convert this dataframe to an interactive table.\"\n",
              "              style=\"display:none;\">\n",
              "        \n",
              "  <svg xmlns=\"http://www.w3.org/2000/svg\" height=\"24px\"viewBox=\"0 0 24 24\"\n",
              "       width=\"24px\">\n",
              "    <path d=\"M0 0h24v24H0V0z\" fill=\"none\"/>\n",
              "    <path d=\"M18.56 5.44l.94 2.06.94-2.06 2.06-.94-2.06-.94-.94-2.06-.94 2.06-2.06.94zm-11 1L8.5 8.5l.94-2.06 2.06-.94-2.06-.94L8.5 2.5l-.94 2.06-2.06.94zm10 10l.94 2.06.94-2.06 2.06-.94-2.06-.94-.94-2.06-.94 2.06-2.06.94z\"/><path d=\"M17.41 7.96l-1.37-1.37c-.4-.4-.92-.59-1.43-.59-.52 0-1.04.2-1.43.59L10.3 9.45l-7.72 7.72c-.78.78-.78 2.05 0 2.83L4 21.41c.39.39.9.59 1.41.59.51 0 1.02-.2 1.41-.59l7.78-7.78 2.81-2.81c.8-.78.8-2.07 0-2.86zM5.41 20L4 18.59l7.72-7.72 1.47 1.35L5.41 20z\"/>\n",
              "  </svg>\n",
              "      </button>\n",
              "      \n",
              "  <style>\n",
              "    .colab-df-container {\n",
              "      display:flex;\n",
              "      flex-wrap:wrap;\n",
              "      gap: 12px;\n",
              "    }\n",
              "\n",
              "    .colab-df-convert {\n",
              "      background-color: #E8F0FE;\n",
              "      border: none;\n",
              "      border-radius: 50%;\n",
              "      cursor: pointer;\n",
              "      display: none;\n",
              "      fill: #1967D2;\n",
              "      height: 32px;\n",
              "      padding: 0 0 0 0;\n",
              "      width: 32px;\n",
              "    }\n",
              "\n",
              "    .colab-df-convert:hover {\n",
              "      background-color: #E2EBFA;\n",
              "      box-shadow: 0px 1px 2px rgba(60, 64, 67, 0.3), 0px 1px 3px 1px rgba(60, 64, 67, 0.15);\n",
              "      fill: #174EA6;\n",
              "    }\n",
              "\n",
              "    [theme=dark] .colab-df-convert {\n",
              "      background-color: #3B4455;\n",
              "      fill: #D2E3FC;\n",
              "    }\n",
              "\n",
              "    [theme=dark] .colab-df-convert:hover {\n",
              "      background-color: #434B5C;\n",
              "      box-shadow: 0px 1px 3px 1px rgba(0, 0, 0, 0.15);\n",
              "      filter: drop-shadow(0px 1px 2px rgba(0, 0, 0, 0.3));\n",
              "      fill: #FFFFFF;\n",
              "    }\n",
              "  </style>\n",
              "\n",
              "      <script>\n",
              "        const buttonEl =\n",
              "          document.querySelector('#df-0c583a37-93c7-43a6-8ddd-eb43ea247a99 button.colab-df-convert');\n",
              "        buttonEl.style.display =\n",
              "          google.colab.kernel.accessAllowed ? 'block' : 'none';\n",
              "\n",
              "        async function convertToInteractive(key) {\n",
              "          const element = document.querySelector('#df-0c583a37-93c7-43a6-8ddd-eb43ea247a99');\n",
              "          const dataTable =\n",
              "            await google.colab.kernel.invokeFunction('convertToInteractive',\n",
              "                                                     [key], {});\n",
              "          if (!dataTable) return;\n",
              "\n",
              "          const docLinkHtml = 'Like what you see? Visit the ' +\n",
              "            '<a target=\"_blank\" href=https://colab.research.google.com/notebooks/data_table.ipynb>data table notebook</a>'\n",
              "            + ' to learn more about interactive tables.';\n",
              "          element.innerHTML = '';\n",
              "          dataTable['output_type'] = 'display_data';\n",
              "          await google.colab.output.renderOutput(dataTable, element);\n",
              "          const docLink = document.createElement('div');\n",
              "          docLink.innerHTML = docLinkHtml;\n",
              "          element.appendChild(docLink);\n",
              "        }\n",
              "      </script>\n",
              "    </div>\n",
              "  </div>\n",
              "  "
            ],
            "text/plain": [
              "            Id                                               Text Class\n",
              "6484     10876  супруга_______________________________________...     H\n",
              "48920    81476  zakupki.zapis.org/doc/148462-zakopis-dnya-chel...     M\n",
              "64899   108146  дети:_________________________________________...     H\n",
              "72562   120881  http://www.entlebucher-anzeiger.ch/2014/06/ski...     H\n",
              "79372   132271                                    ===Census/index     M\n",
              "79649   132746                                         П.Д.ФРИЗЕН     H\n",
              "89753   149491  http://www.transportaward.com/index.php/histor...     H\n",
              "90038   149955  дети:_________________________________________...     H\n",
              "91810   152888                                   president.go.kr/     H\n",
              "99406   165658  ttp://twitter.com/TrumpTramp/status/1025219074...     M\n",
              "99450   165752                                          тыс.кв.м.     H\n",
              "107898  179830                                    Гапсбург(ский).     H\n",
              "113257  188765                                    \"Урррраааа!!!\".     H\n",
              "114962  191566                                 http://www.kmt.tj/     H"
            ]
          },
          "metadata": {},
          "execution_count": 17
        }
      ]
    },
    {
      "cell_type": "code",
      "source": [
        "val[val.Text.str.split().apply(len) == 1]"
      ],
      "metadata": {
        "colab": {
          "base_uri": "https://localhost:8080/",
          "height": 140
        },
        "id": "9V93sBR0ko5d",
        "outputId": "9af4733d-0b94-485e-b47f-0877e1329aa6"
      },
      "execution_count": 18,
      "outputs": [
        {
          "output_type": "execute_result",
          "data": {
            "text/html": [
              "\n",
              "  <div id=\"df-61f84656-bdcb-414b-92cc-e06ebf85e102\">\n",
              "    <div class=\"colab-df-container\">\n",
              "      <div>\n",
              "<style scoped>\n",
              "    .dataframe tbody tr th:only-of-type {\n",
              "        vertical-align: middle;\n",
              "    }\n",
              "\n",
              "    .dataframe tbody tr th {\n",
              "        vertical-align: top;\n",
              "    }\n",
              "\n",
              "    .dataframe thead th {\n",
              "        text-align: right;\n",
              "    }\n",
              "</style>\n",
              "<table border=\"1\" class=\"dataframe\">\n",
              "  <thead>\n",
              "    <tr style=\"text-align: right;\">\n",
              "      <th></th>\n",
              "      <th>Id</th>\n",
              "      <th>Text</th>\n",
              "      <th>Class</th>\n",
              "    </tr>\n",
              "  </thead>\n",
              "  <tbody>\n",
              "    <tr>\n",
              "      <th>9297</th>\n",
              "      <td>91474</td>\n",
              "      <td>Приреализацииподпрограммывыделенаследующаяосно...</td>\n",
              "      <td>H</td>\n",
              "    </tr>\n",
              "    <tr>\n",
              "      <th>13598</th>\n",
              "      <td>135818</td>\n",
              "      <td>Е.И.Степанков</td>\n",
              "      <td>M</td>\n",
              "    </tr>\n",
              "    <tr>\n",
              "      <th>14129</th>\n",
              "      <td>141093</td>\n",
              "      <td>http://www.doctorwhotv.co.uk/mummy-on-the-orie...</td>\n",
              "      <td>H</td>\n",
              "    </tr>\n",
              "  </tbody>\n",
              "</table>\n",
              "</div>\n",
              "      <button class=\"colab-df-convert\" onclick=\"convertToInteractive('df-61f84656-bdcb-414b-92cc-e06ebf85e102')\"\n",
              "              title=\"Convert this dataframe to an interactive table.\"\n",
              "              style=\"display:none;\">\n",
              "        \n",
              "  <svg xmlns=\"http://www.w3.org/2000/svg\" height=\"24px\"viewBox=\"0 0 24 24\"\n",
              "       width=\"24px\">\n",
              "    <path d=\"M0 0h24v24H0V0z\" fill=\"none\"/>\n",
              "    <path d=\"M18.56 5.44l.94 2.06.94-2.06 2.06-.94-2.06-.94-.94-2.06-.94 2.06-2.06.94zm-11 1L8.5 8.5l.94-2.06 2.06-.94-2.06-.94L8.5 2.5l-.94 2.06-2.06.94zm10 10l.94 2.06.94-2.06 2.06-.94-2.06-.94-.94-2.06-.94 2.06-2.06.94z\"/><path d=\"M17.41 7.96l-1.37-1.37c-.4-.4-.92-.59-1.43-.59-.52 0-1.04.2-1.43.59L10.3 9.45l-7.72 7.72c-.78.78-.78 2.05 0 2.83L4 21.41c.39.39.9.59 1.41.59.51 0 1.02-.2 1.41-.59l7.78-7.78 2.81-2.81c.8-.78.8-2.07 0-2.86zM5.41 20L4 18.59l7.72-7.72 1.47 1.35L5.41 20z\"/>\n",
              "  </svg>\n",
              "      </button>\n",
              "      \n",
              "  <style>\n",
              "    .colab-df-container {\n",
              "      display:flex;\n",
              "      flex-wrap:wrap;\n",
              "      gap: 12px;\n",
              "    }\n",
              "\n",
              "    .colab-df-convert {\n",
              "      background-color: #E8F0FE;\n",
              "      border: none;\n",
              "      border-radius: 50%;\n",
              "      cursor: pointer;\n",
              "      display: none;\n",
              "      fill: #1967D2;\n",
              "      height: 32px;\n",
              "      padding: 0 0 0 0;\n",
              "      width: 32px;\n",
              "    }\n",
              "\n",
              "    .colab-df-convert:hover {\n",
              "      background-color: #E2EBFA;\n",
              "      box-shadow: 0px 1px 2px rgba(60, 64, 67, 0.3), 0px 1px 3px 1px rgba(60, 64, 67, 0.15);\n",
              "      fill: #174EA6;\n",
              "    }\n",
              "\n",
              "    [theme=dark] .colab-df-convert {\n",
              "      background-color: #3B4455;\n",
              "      fill: #D2E3FC;\n",
              "    }\n",
              "\n",
              "    [theme=dark] .colab-df-convert:hover {\n",
              "      background-color: #434B5C;\n",
              "      box-shadow: 0px 1px 3px 1px rgba(0, 0, 0, 0.15);\n",
              "      filter: drop-shadow(0px 1px 2px rgba(0, 0, 0, 0.3));\n",
              "      fill: #FFFFFF;\n",
              "    }\n",
              "  </style>\n",
              "\n",
              "      <script>\n",
              "        const buttonEl =\n",
              "          document.querySelector('#df-61f84656-bdcb-414b-92cc-e06ebf85e102 button.colab-df-convert');\n",
              "        buttonEl.style.display =\n",
              "          google.colab.kernel.accessAllowed ? 'block' : 'none';\n",
              "\n",
              "        async function convertToInteractive(key) {\n",
              "          const element = document.querySelector('#df-61f84656-bdcb-414b-92cc-e06ebf85e102');\n",
              "          const dataTable =\n",
              "            await google.colab.kernel.invokeFunction('convertToInteractive',\n",
              "                                                     [key], {});\n",
              "          if (!dataTable) return;\n",
              "\n",
              "          const docLinkHtml = 'Like what you see? Visit the ' +\n",
              "            '<a target=\"_blank\" href=https://colab.research.google.com/notebooks/data_table.ipynb>data table notebook</a>'\n",
              "            + ' to learn more about interactive tables.';\n",
              "          element.innerHTML = '';\n",
              "          dataTable['output_type'] = 'display_data';\n",
              "          await google.colab.output.renderOutput(dataTable, element);\n",
              "          const docLink = document.createElement('div');\n",
              "          docLink.innerHTML = docLinkHtml;\n",
              "          element.appendChild(docLink);\n",
              "        }\n",
              "      </script>\n",
              "    </div>\n",
              "  </div>\n",
              "  "
            ],
            "text/plain": [
              "           Id                                               Text Class\n",
              "9297    91474  Приреализацииподпрограммывыделенаследующаяосно...     H\n",
              "13598  135818                                      Е.И.Степанков     M\n",
              "14129  141093  http://www.doctorwhotv.co.uk/mummy-on-the-orie...     H"
            ]
          },
          "metadata": {},
          "execution_count": 18
        }
      ]
    },
    {
      "cell_type": "code",
      "source": [
        "test[test.Text.str.split().apply(len) == 1]"
      ],
      "metadata": {
        "colab": {
          "base_uri": "https://localhost:8080/",
          "height": 291
        },
        "id": "kx0ClORkktb-",
        "outputId": "ed65aab2-085d-41d0-f9c7-1a9fa26843a5"
      },
      "execution_count": 19,
      "outputs": [
        {
          "output_type": "execute_result",
          "data": {
            "text/html": [
              "\n",
              "  <div id=\"df-0655c41b-47aa-4183-8303-823f0238a675\">\n",
              "    <div class=\"colab-df-container\">\n",
              "      <div>\n",
              "<style scoped>\n",
              "    .dataframe tbody tr th:only-of-type {\n",
              "        vertical-align: middle;\n",
              "    }\n",
              "\n",
              "    .dataframe tbody tr th {\n",
              "        vertical-align: top;\n",
              "    }\n",
              "\n",
              "    .dataframe thead th {\n",
              "        text-align: right;\n",
              "    }\n",
              "</style>\n",
              "<table border=\"1\" class=\"dataframe\">\n",
              "  <thead>\n",
              "    <tr style=\"text-align: right;\">\n",
              "      <th></th>\n",
              "      <th>Id</th>\n",
              "      <th>Text</th>\n",
              "    </tr>\n",
              "  </thead>\n",
              "  <tbody>\n",
              "    <tr>\n",
              "      <th>19146</th>\n",
              "      <td>64373</td>\n",
              "      <td>====_&amp;ure=_blanks</td>\n",
              "    </tr>\n",
              "    <tr>\n",
              "      <th>19458</th>\n",
              "      <td>65408</td>\n",
              "      <td>(комментарии.ua)</td>\n",
              "    </tr>\n",
              "    <tr>\n",
              "      <th>34954</th>\n",
              "      <td>116672</td>\n",
              "      <td>паспорт_______________________________________...</td>\n",
              "    </tr>\n",
              "    <tr>\n",
              "      <th>38276</th>\n",
              "      <td>127568</td>\n",
              "      <td>коты...кончают....????ЧТОЫ</td>\n",
              "    </tr>\n",
              "    <tr>\n",
              "      <th>43031</th>\n",
              "      <td>143522</td>\n",
              "      <td>воскр[есенье].</td>\n",
              "    </tr>\n",
              "    <tr>\n",
              "      <th>58240</th>\n",
              "      <td>194146</td>\n",
              "      <td>по____________________________________________...</td>\n",
              "    </tr>\n",
              "    <tr>\n",
              "      <th>61851</th>\n",
              "      <td>206178</td>\n",
              "      <td>Май/Июнь/Июль/Август</td>\n",
              "    </tr>\n",
              "    <tr>\n",
              "      <th>63562</th>\n",
              "      <td>211927</td>\n",
              "      <td>С.87).</td>\n",
              "    </tr>\n",
              "  </tbody>\n",
              "</table>\n",
              "</div>\n",
              "      <button class=\"colab-df-convert\" onclick=\"convertToInteractive('df-0655c41b-47aa-4183-8303-823f0238a675')\"\n",
              "              title=\"Convert this dataframe to an interactive table.\"\n",
              "              style=\"display:none;\">\n",
              "        \n",
              "  <svg xmlns=\"http://www.w3.org/2000/svg\" height=\"24px\"viewBox=\"0 0 24 24\"\n",
              "       width=\"24px\">\n",
              "    <path d=\"M0 0h24v24H0V0z\" fill=\"none\"/>\n",
              "    <path d=\"M18.56 5.44l.94 2.06.94-2.06 2.06-.94-2.06-.94-.94-2.06-.94 2.06-2.06.94zm-11 1L8.5 8.5l.94-2.06 2.06-.94-2.06-.94L8.5 2.5l-.94 2.06-2.06.94zm10 10l.94 2.06.94-2.06 2.06-.94-2.06-.94-.94-2.06-.94 2.06-2.06.94z\"/><path d=\"M17.41 7.96l-1.37-1.37c-.4-.4-.92-.59-1.43-.59-.52 0-1.04.2-1.43.59L10.3 9.45l-7.72 7.72c-.78.78-.78 2.05 0 2.83L4 21.41c.39.39.9.59 1.41.59.51 0 1.02-.2 1.41-.59l7.78-7.78 2.81-2.81c.8-.78.8-2.07 0-2.86zM5.41 20L4 18.59l7.72-7.72 1.47 1.35L5.41 20z\"/>\n",
              "  </svg>\n",
              "      </button>\n",
              "      \n",
              "  <style>\n",
              "    .colab-df-container {\n",
              "      display:flex;\n",
              "      flex-wrap:wrap;\n",
              "      gap: 12px;\n",
              "    }\n",
              "\n",
              "    .colab-df-convert {\n",
              "      background-color: #E8F0FE;\n",
              "      border: none;\n",
              "      border-radius: 50%;\n",
              "      cursor: pointer;\n",
              "      display: none;\n",
              "      fill: #1967D2;\n",
              "      height: 32px;\n",
              "      padding: 0 0 0 0;\n",
              "      width: 32px;\n",
              "    }\n",
              "\n",
              "    .colab-df-convert:hover {\n",
              "      background-color: #E2EBFA;\n",
              "      box-shadow: 0px 1px 2px rgba(60, 64, 67, 0.3), 0px 1px 3px 1px rgba(60, 64, 67, 0.15);\n",
              "      fill: #174EA6;\n",
              "    }\n",
              "\n",
              "    [theme=dark] .colab-df-convert {\n",
              "      background-color: #3B4455;\n",
              "      fill: #D2E3FC;\n",
              "    }\n",
              "\n",
              "    [theme=dark] .colab-df-convert:hover {\n",
              "      background-color: #434B5C;\n",
              "      box-shadow: 0px 1px 3px 1px rgba(0, 0, 0, 0.15);\n",
              "      filter: drop-shadow(0px 1px 2px rgba(0, 0, 0, 0.3));\n",
              "      fill: #FFFFFF;\n",
              "    }\n",
              "  </style>\n",
              "\n",
              "      <script>\n",
              "        const buttonEl =\n",
              "          document.querySelector('#df-0655c41b-47aa-4183-8303-823f0238a675 button.colab-df-convert');\n",
              "        buttonEl.style.display =\n",
              "          google.colab.kernel.accessAllowed ? 'block' : 'none';\n",
              "\n",
              "        async function convertToInteractive(key) {\n",
              "          const element = document.querySelector('#df-0655c41b-47aa-4183-8303-823f0238a675');\n",
              "          const dataTable =\n",
              "            await google.colab.kernel.invokeFunction('convertToInteractive',\n",
              "                                                     [key], {});\n",
              "          if (!dataTable) return;\n",
              "\n",
              "          const docLinkHtml = 'Like what you see? Visit the ' +\n",
              "            '<a target=\"_blank\" href=https://colab.research.google.com/notebooks/data_table.ipynb>data table notebook</a>'\n",
              "            + ' to learn more about interactive tables.';\n",
              "          element.innerHTML = '';\n",
              "          dataTable['output_type'] = 'display_data';\n",
              "          await google.colab.output.renderOutput(dataTable, element);\n",
              "          const docLink = document.createElement('div');\n",
              "          docLink.innerHTML = docLinkHtml;\n",
              "          element.appendChild(docLink);\n",
              "        }\n",
              "      </script>\n",
              "    </div>\n",
              "  </div>\n",
              "  "
            ],
            "text/plain": [
              "           Id                                               Text\n",
              "19146   64373                                  ====_&ure=_blanks\n",
              "19458   65408                                   (комментарии.ua)\n",
              "34954  116672  паспорт_______________________________________...\n",
              "38276  127568                         коты...кончают....????ЧТОЫ\n",
              "43031  143522                                     воскр[есенье].\n",
              "58240  194146  по____________________________________________...\n",
              "61851  206178                               Май/Июнь/Июль/Август\n",
              "63562  211927                                             С.87)."
            ]
          },
          "metadata": {},
          "execution_count": 19
        }
      ]
    },
    {
      "cell_type": "markdown",
      "source": [
        "Как видим, у нас есть некоторые тексты, которые сходу выглядят странно: ссылки, сокращения, части html страниц и тд. Причем большинство из них написаны человеком (точнее являются артефактами автоматического создания данных). В целом, их немного, так что это не должно быть не страшно.\n",
        "\n",
        "\n",
        "Построим на длины по классам:"
      ],
      "metadata": {
        "id": "YDer8B6-k-DL"
      }
    },
    {
      "cell_type": "code",
      "source": [
        "print('Train:')\n",
        "print('H\\tСредняя длина (в символах):', train[train.Class=='H'].Text.apply(len).mean())\n",
        "print('M\\tСредняя длина (в символах):', train[train.Class=='M'].Text.apply(len).mean(), end='\\n\\n')\n",
        "print('H\\tСредняя длина (в токенах):', train[train.Class=='H'].Text.str.split().apply(len).mean())\n",
        "print('M\\tСредняя длина (в токенах):', train[train.Class=='M'].Text.str.split().apply(len).mean())"
      ],
      "metadata": {
        "colab": {
          "base_uri": "https://localhost:8080/"
        },
        "id": "gN1JOqSSsVkb",
        "outputId": "114e43f1-9a1d-4f01-8d57-f278c5bdb616"
      },
      "execution_count": 20,
      "outputs": [
        {
          "output_type": "stream",
          "name": "stdout",
          "text": [
            "Train:\n",
            "H\tСредняя длина (в символах): 221.472022933292\n",
            "M\tСредняя длина (в символах): 236.86135345802793\n",
            "\n",
            "H\tСредняя длина (в токенах): 30.069497172077167\n",
            "M\tСредняя длина (в токенах): 31.847034758488167\n"
          ]
        }
      ]
    },
    {
      "cell_type": "code",
      "source": [
        "print('Val:')\n",
        "print('H\\tСредняя длина (в символах):', val[val.Class=='H'].Text.apply(len).mean())\n",
        "print('M\\tСредняя длина (в символах):', val[val.Class=='M'].Text.apply(len).mean(), end='\\n\\n')\n",
        "print('H\\tСредняя длина (в токенах):', val[val.Class=='H'].Text.str.split().apply(len).mean())\n",
        "print('M\\tСредняя длина (в токенах):', val[val.Class=='M'].Text.str.split().apply(len).mean())"
      ],
      "metadata": {
        "colab": {
          "base_uri": "https://localhost:8080/"
        },
        "id": "RPwwmJpZsiF2",
        "outputId": "24875d2b-640a-4463-e6b9-10dbed70b240"
      },
      "execution_count": 21,
      "outputs": [
        {
          "output_type": "stream",
          "name": "stdout",
          "text": [
            "Val:\n",
            "H\tСредняя длина (в символах): 221.47052807735218\n",
            "M\tСредняя длина (в символах): 237.18744769874476\n",
            "\n",
            "H\tСредняя длина (в токенах): 30.08478988471551\n",
            "M\tСредняя длина (в токенах): 31.855602045560204\n"
          ]
        }
      ]
    },
    {
      "cell_type": "markdown",
      "source": [
        "Видим, что тексты, сгененрированные моделями, в среднем длиннее, хотя и не сильно. Посмотрим на распределение длин по классам:"
      ],
      "metadata": {
        "id": "0MpLqpDJvvSo"
      }
    },
    {
      "cell_type": "code",
      "source": [
        "fig, axs = plt.subplots(2, 2, figsize=(12, 10), sharex='row')\n",
        "\n",
        "tr_human = train.Class == 'H'\n",
        "tr_model = train.Class == 'M'\n",
        "\n",
        "de_human = val.Class == 'H'\n",
        "de_model = val.Class == 'M'\n",
        "\n",
        "axs[0,0].hist(train[tr_human].Text.str.split().apply(len))\n",
        "axs[0,0].set(title='train H',\n",
        "             xlabel='num. of tokens',\n",
        "             ylabel='num. of texts'\n",
        "            )\n",
        "axs[0,1].hist(train[tr_model].Text.str.split().apply(len))\n",
        "axs[0,1].set(title='train M',\n",
        "             xlabel='num. of tokens',\n",
        "             ylabel='num. of texts'\n",
        "            )\n",
        "\n",
        "\n",
        "axs[1,0].hist(val[de_human].Text.str.split().apply(len))\n",
        "axs[1,0].set(title='val H',\n",
        "             xlabel='num. of tokens',\n",
        "             ylabel='num. of texts'\n",
        "            )\n",
        "\n",
        "axs[1,1].hist(val[de_model].Text.str.split().apply(len))\n",
        "axs[1,1].set(title='val M',\n",
        "             xlabel='num. of tokens',\n",
        "             ylabel='num. of texts'\n",
        "            )\n",
        "plt.show()"
      ],
      "metadata": {
        "colab": {
          "base_uri": "https://localhost:8080/",
          "height": 621
        },
        "id": "5buyIROYtWy9",
        "outputId": "20daeae8-2a39-40e8-c556-dd33f62932ba"
      },
      "execution_count": 22,
      "outputs": [
        {
          "output_type": "display_data",
          "data": {
            "image/png": "[encoded data removed]",
            "text/plain": [
              "<Figure size 864x720 with 4 Axes>"
            ]
          },
          "metadata": {
            "needs_background": "light"
          }
        }
      ]
    },
    {
      "cell_type": "markdown",
      "source": [
        "Как видим, распределения длин текстов между классами примерно одинаковы\n",
        "\n",
        "Теперь посмотрим на разницу в написании текстов, а именно readability. А именно, посмотрим на Dale-Chall Readability, Flesch Reading Ease, Gunning Fog Index, показывающие сложность текста (синтаксическую и лексическую) и то, насколько просто его читать.\n",
        "\n",
        "и посчитаем усредненное значение сложности по всем метрикам при помощи text_standart"
      ],
      "metadata": {
        "id": "scOeiX4mAutk"
      }
    },
    {
      "cell_type": "code",
      "source": [
        "!pip install -q textstat"
      ],
      "metadata": {
        "colab": {
          "base_uri": "https://localhost:8080/"
        },
        "id": "sfJBm0eYBWu7",
        "outputId": "c7964352-52e9-4012-f324-d0a0ae8ba22e"
      },
      "execution_count": 31,
      "outputs": [
        {
          "output_type": "stream",
          "name": "stdout",
          "text": [
            "\u001b[K     |████████████████████████████████| 101 kB 2.9 MB/s \n",
            "\u001b[K     |████████████████████████████████| 2.0 MB 11.2 MB/s \n",
            "\u001b[?25h"
          ]
        }
      ]
    },
    {
      "cell_type": "code",
      "source": [
        "import textstat\n",
        "\n",
        "print('H\\tdale_chall_readability_score:', train[tr_human].Text.apply(lambda x: textstat.dale_chall_readability_score(x)).mean())\n",
        "print('M\\tdale_chall_readability_score:', train[tr_model].Text.apply(lambda x: textstat.dale_chall_readability_score(x)).mean(), end='\\n\\n')\n",
        "\n",
        "print('H\\tflesch_reading_ease:', train[tr_human].Text.apply(lambda x: textstat.flesch_reading_ease(x)).mean())\n",
        "print('M\\tflesch_reading_ease:', train[tr_model].Text.apply(lambda x: textstat.flesch_reading_ease(x)).mean(), end='\\n\\n')\n",
        "\n",
        "print('H\\tgunning_fog:', train[tr_human].Text.apply(lambda x: textstat.gunning_fog(x)).mean())\n",
        "print('M\\tgunning_fog:', train[tr_model].Text.apply(lambda x: textstat.gunning_fog(x)).mean(), end='\\n\\n')\n",
        "\n",
        "print('H\\ttext_standard:', train[tr_human].Text.apply(lambda x: textstat.text_standard(x)).mode())\n",
        "print('H\\ttext_standard:', train[tr_model].Text.apply(lambda x: textstat.text_standard(x)).mode())"
      ],
      "metadata": {
        "colab": {
          "base_uri": "https://localhost:8080/"
        },
        "id": "NtzwDREDBUnZ",
        "outputId": "d98f744b-1200-436f-8593-2200c140fc13"
      },
      "execution_count": 41,
      "outputs": [
        {
          "output_type": "stream",
          "name": "stdout",
          "text": [
            "H\tdale_chall_readability_score: 20.130638723173764\n",
            "M\tdale_chall_readability_score: 20.428218530629238\n",
            "\n",
            "H\tflesch_reading_ease: 90.49484837684844\n",
            "M\tflesch_reading_ease: 88.83139855263151\n",
            "\n",
            "H\tgunning_fog: 11.778161152862685\n",
            "M\tgunning_fog: 12.348772527932352\n",
            "\n",
            "H\ttext_standard: 0    -1th and 0th grade\n",
            "dtype: object\n",
            "H\ttext_standard: 0    -1th and 0th grade\n",
            "dtype: object\n"
          ]
        }
      ]
    },
    {
      "cell_type": "markdown",
      "source": [
        "Судя по метрикам readability, или \"читабельности\", тексты людей и моделей примерно одинаковы по сложности. Причем довольно простые, судя по метрике text_standart"
      ],
      "metadata": {
        "id": "CbZKNFtREjDY"
      }
    }
  ]
}
